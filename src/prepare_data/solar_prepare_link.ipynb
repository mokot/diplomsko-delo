{
 "cells": [
  {
   "cell_type": "markdown",
   "metadata": {},
   "source": [
    "# Prepare Šolar corpus link data\n"
   ]
  },
  {
   "cell_type": "code",
   "execution_count": null,
   "metadata": {},
   "outputs": [],
   "source": [
    "#!/usr/bin/env python3\n",
    "# -*- coding: utf-8 -*-\n",
    "\n",
    "import pandas as pd\n",
    "\n",
    "from utils.logging import get_logger\n",
    "from solar_prepare_data import read_solar, SOLAR_DIRECTORY\n"
   ]
  },
  {
   "cell_type": "code",
   "execution_count": null,
   "metadata": {},
   "outputs": [],
   "source": [
    "# Get logger\n",
    "solar_link_logger = get_logger(\"Prepare Solar Corpus Link Data\")\n"
   ]
  },
  {
   "cell_type": "code",
   "execution_count": null,
   "metadata": {},
   "outputs": [],
   "source": [
    "def get_solar_link():\n",
    "    \"\"\"\n",
    "    Returns the links between source and target data of solar corpus as a pandas\n",
    "    data frame.\n",
    "\n",
    "    @return: data frame with links between source and target data of solar corpus\n",
    "    \"\"\"\n",
    "    # Read solar corpus data\n",
    "    data_xml = read_solar()\n",
    "    data = []\n",
    "\n",
    "    for index_i in range(len(data_xml[2])):\n",
    "        for index_j in range(len(data_xml[2][index_i])):\n",
    "            temp_data = data_xml[2][index_i][index_j].get(\"target\").split()\n",
    "            # Remove # from solar word id\n",
    "            temp_data_source = \";\".join(\n",
    "                [source[1:] for source in temp_data if \"s.\" in source]\n",
    "            )\n",
    "            temp_data_target = \";\".join(\n",
    "                [source[1:] for source in temp_data if \"t.\" in source]\n",
    "            )\n",
    "\n",
    "            data.append(\n",
    "                [\n",
    "                    data_xml[2][index_i][index_j].get(\"type\"),\n",
    "                    temp_data_source,\n",
    "                    temp_data_target,\n",
    "                ]\n",
    "            )\n",
    "\n",
    "    df_columns = [\"type\", \"source\", \"target\"]\n",
    "    df_rows = data\n",
    "\n",
    "    df = pd.DataFrame(df_rows, columns=df_columns)\n",
    "    return df\n"
   ]
  },
  {
   "cell_type": "code",
   "execution_count": null,
   "metadata": {},
   "outputs": [],
   "source": [
    "def save_solar_link():\n",
    "    \"\"\"\n",
    "    Saves the solar links between source and target as a data frame to a csv\n",
    "    file.\n",
    "    \"\"\"\n",
    "    data = get_solar_link()\n",
    "\n",
    "    data.to_csv(SOLAR_DIRECTORY + \"solar_link.csv\", index=False)\n",
    "    solar_link_logger.info(\"Solar links saved to csv file\")\n",
    "\n",
    "    return\n"
   ]
  }
 ],
 "metadata": {
  "kernelspec": {
   "display_name": "Python 3.10.4 ('slovko')",
   "language": "python",
   "name": "python3"
  },
  "language_info": {
   "codemirror_mode": {
    "name": "ipython",
    "version": 3
   },
   "file_extension": ".py",
   "mimetype": "text/x-python",
   "name": "python",
   "nbconvert_exporter": "python",
   "pygments_lexer": "ipython3",
   "version": "3.10.4"
  },
  "vscode": {
   "interpreter": {
    "hash": "0b7441cdf19e0d28b58859c3a7d82aad7fb7437a4f6af83da442de25c6af8e16"
   }
  }
 },
 "nbformat": 4,
 "nbformat_minor": 2
}
