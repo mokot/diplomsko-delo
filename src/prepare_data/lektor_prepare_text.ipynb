{
 "cells": [
  {
   "cell_type": "markdown",
   "metadata": {},
   "source": [
    "# Prepare Lektor corpus text data\n"
   ]
  },
  {
   "cell_type": "code",
   "execution_count": null,
   "metadata": {},
   "outputs": [],
   "source": [
    "#!/usr/bin/env python3\n",
    "# -*- coding: utf-8 -*-\n",
    "\n",
    "from utils.logging import get_logger\n",
    "from utils.lektor_enum import Lektor\n",
    "from lektor_prepare_data import (\n",
    "    read_lektor,\n",
    "    LEKTOR_DIRECTORY,\n",
    "    LEKTOR_TAG_W,\n",
    "    LEKTOR_TAG_C,\n",
    "    LEKTOR_TAG_LEKT,\n",
    "    LEKTOR_TAG_S,\n",
    ")\n"
   ]
  },
  {
   "cell_type": "code",
   "execution_count": null,
   "metadata": {},
   "outputs": [],
   "source": [
    "# Get logger\n",
    "lektor_text_logger = get_logger(\"Prepare Lektor Corpus Text Data\")\n"
   ]
  },
  {
   "cell_type": "code",
   "execution_count": null,
   "metadata": {},
   "outputs": [],
   "source": [
    "def get_lektor_word_text(data_xml, text=Lektor.SOURCE):\n",
    "    \"\"\"\n",
    "    Returns the word text from the lektor data.\n",
    "\n",
    "    text = SOURCE: source text\n",
    "    text = TARGET: target text\n",
    "\n",
    "    @param data_xml: lektor data in xml format\n",
    "    @text: corpus type (source or target)\n",
    "    @return: word in the corpus\n",
    "    \"\"\"\n",
    "    data = \"\"\n",
    "\n",
    "    if data_xml.tag == LEKTOR_TAG_W or data_xml.tag == LEKTOR_TAG_C:\n",
    "        # Add a word or punctuation to data\n",
    "        data = data_xml.text\n",
    "    elif LEKTOR_TAG_LEKT in data_xml.tag:\n",
    "        index_text = 0\n",
    "        if text == Lektor.TARGET:\n",
    "            index_text = 1\n",
    "        elif not text == Lektor.SOURCE:\n",
    "            lektor_text_logger.warning(\"Invalid text parameter\")\n",
    "\n",
    "        # Loop through the list of w, c, lekt\n",
    "        for index in range(len(data_xml[index_text])):\n",
    "            # Recursively call this function to get the word text (nested lekt)\n",
    "            data += get_lektor_word_text(data_xml[index_text][index], text)\n",
    "    elif data_xml.tag == LEKTOR_TAG_S:\n",
    "        # Add space to data\n",
    "        data = \" \"\n",
    "\n",
    "    return data if data else \"\"\n"
   ]
  },
  {
   "cell_type": "code",
   "execution_count": null,
   "metadata": {},
   "outputs": [],
   "source": [
    "def get_lektor_text(text=Lektor.COMPLETE):\n",
    "    \"\"\"\n",
    "    Gets the lektor corpus and returns a string of text.\n",
    "\n",
    "    text = COMPLETE: complete text\n",
    "    text = SOURCE: source text\n",
    "    text = TARGET: target text\n",
    "\n",
    "    @param text: corpus type (complete, source or target)\n",
    "    @return: sentences in the corpus\n",
    "    \"\"\"\n",
    "    index_text = [Lektor.SOURCE, Lektor.TARGET]  # default index_text - Lektor.COMPLETE\n",
    "    if text == Lektor.SOURCE or text == Lektor.TARGET:\n",
    "        index_text = [text]  # set index_text to Lektor.SOURCE or Lektor.TARGET\n",
    "    elif not text == Lektor.COMPLETE:\n",
    "        lektor_text_logger.warning(\"Invalid text parameter\")\n",
    "\n",
    "    # Read lektor corpus data\n",
    "    data_xml = read_lektor()\n",
    "    data = []\n",
    "\n",
    "    # Loop through the list of SOURCE or TARGET text\n",
    "    for index_i in index_text:\n",
    "        temp_data = \"\"\n",
    "        # Loop through the list of text (skip head)\n",
    "        for index_j in range(1, len(data_xml), 2):\n",
    "            # Loop through the list of p\n",
    "            for index_k in range(len(data_xml[index_j])):\n",
    "                # Loop through the list of w, c, lekt\n",
    "                for index_l in range(len(data_xml[index_j][index_k])):\n",
    "                    temp_data += get_lektor_word_text(\n",
    "                        data_xml[index_j][index_k][index_l], index_i\n",
    "                    )\n",
    "                temp_data += \"\\n\"\n",
    "            temp_data += \"\\n\"\n",
    "        data.append(temp_data)\n",
    "\n",
    "    return data\n"
   ]
  },
  {
   "cell_type": "code",
   "execution_count": null,
   "metadata": {},
   "outputs": [],
   "source": [
    "def save_lektor_text():\n",
    "    \"\"\"\n",
    "    Saves the lektor corpus as a txt file.\n",
    "    \"\"\"\n",
    "    # Get complete text\n",
    "    data = get_lektor_text(text=Lektor.COMPLETE)\n",
    "\n",
    "    # Write data in source and target files\n",
    "    for index, filename in enumerate(\n",
    "        [\"lektor_source_text.txt\", \"lektor_target_text.txt\"]\n",
    "    ):\n",
    "        with open(LEKTOR_DIRECTORY + filename, \"w\") as file:\n",
    "            file.write(data[index])\n",
    "            file.close()\n",
    "\n",
    "    # Write data in lektor file\n",
    "    with open(LEKTOR_DIRECTORY + \"lektor_complete.txt\", \"w\") as file:\n",
    "        file.writelines(data)\n",
    "        file.close()\n",
    "\n",
    "    lektor_text_logger.info(\"Lektor data saved to txt file\")\n",
    "\n",
    "    return\n"
   ]
  }
 ],
 "metadata": {
  "kernelspec": {
   "display_name": "Python 3.10.4 ('slovko')",
   "language": "python",
   "name": "python3"
  },
  "language_info": {
   "codemirror_mode": {
    "name": "ipython",
    "version": 3
   },
   "file_extension": ".py",
   "mimetype": "text/x-python",
   "name": "python",
   "nbconvert_exporter": "python",
   "pygments_lexer": "ipython3",
   "version": "3.10.4"
  },
  "orig_nbformat": 4,
  "vscode": {
   "interpreter": {
    "hash": "0b7441cdf19e0d28b58859c3a7d82aad7fb7437a4f6af83da442de25c6af8e16"
   }
  }
 },
 "nbformat": 4,
 "nbformat_minor": 2
}
