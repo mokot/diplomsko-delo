{
 "cells": [
  {
   "cell_type": "markdown",
   "metadata": {},
   "source": [
    "# Prepare Šolar and Lektor corpus sentence data\n"
   ]
  },
  {
   "cell_type": "code",
   "execution_count": null,
   "metadata": {},
   "outputs": [],
   "source": [
    "#!/usr/bin/env python3\n",
    "# -*- coding: utf-8 -*-\n",
    "\n",
    "import pandas as pd\n",
    "\n",
    "from utils.logging import get_logger\n",
    "from utils.corpus_enum import Corpus\n",
    "from utils.error_enum import ErrorType\n",
    "from solar_prepare_data import SOLAR_DIRECTORY\n",
    "from lektor_prepare_data import LEKTOR_DIRECTORY\n"
   ]
  },
  {
   "cell_type": "code",
   "execution_count": null,
   "metadata": {},
   "outputs": [],
   "source": [
    "# Get logger\n",
    "prepare_data_sentence_logger = get_logger(\"Prepare Corpus Error Data\")\n"
   ]
  },
  {
   "cell_type": "code",
   "execution_count": null,
   "metadata": {},
   "outputs": [],
   "source": [
    "# Constants\n",
    "SENTENCE_MIN_LENGTH = 1\n",
    "SENTENCE_MAX_LENGTH = 128\n",
    "SOLAR_FILE_SINGLE_ERROR = (\n",
    "    \"../../data/solar/solar_data_single_error_all.csv\"  # solar data with single error\n",
    ")\n",
    "SOLAR_FILE_MULTIPLE_ERROR = \"../../data/solar/solar_data_multiple_error_all.csv\"  # solar data with multiple error\n",
    "LEKTOR_FILE_SINGLE_ERROR = \"../../data/lektor/lektor_data_single_error_all.csv\"  # lektor data with single error\n",
    "LEKTOR_FILE_MULTIPLE_ERROR = \"../../data/lektor/lektor_data_multiple_error_all.csv\"  # solar data with multiple error\n"
   ]
  },
  {
   "cell_type": "code",
   "execution_count": null,
   "metadata": {},
   "outputs": [],
   "source": [
    "def read_sentence_data(corpus=Corpus.SOLAR, error=ErrorType.SINGLE):\n",
    "    \"\"\"\n",
    "    Reads the solar or lektor sentence data and returns a data frame.\n",
    "\n",
    "    @param corpus: corpus type (solar or lektor)\n",
    "    @param error: error file type (single error or multiple errors)\n",
    "    @return: data frame with the corpus sentence data\n",
    "    \"\"\"\n",
    "    data_path = SOLAR_FILE_SINGLE_ERROR\n",
    "    if corpus == Corpus.LEKTOR:\n",
    "        if error == ErrorType.MULTIPLE:\n",
    "            data_path = LEKTOR_FILE_MULTIPLE_ERROR\n",
    "        else:\n",
    "            data_path = LEKTOR_FILE_SINGLE_ERROR\n",
    "    else:\n",
    "        if error == ErrorType.MULTIPLE:\n",
    "            data_path = SOLAR_FILE_MULTIPLE_ERROR\n",
    "\n",
    "    # Read the solar or lektor error data from the file\n",
    "    data = pd.read_csv(data_path, keep_default_na=False)\n",
    "    prepare_data_sentence_logger.info(\"Corpus sentence data read\")\n",
    "\n",
    "    return data\n"
   ]
  },
  {
   "cell_type": "code",
   "execution_count": null,
   "metadata": {},
   "outputs": [],
   "source": [
    "def filter_sentence_data(corpus=Corpus.SOLAR, error=ErrorType.SINGLE):\n",
    "    \"\"\"\n",
    "    Filters the solar or lektor sentence data and returns a data frame.\n",
    "\n",
    "    @param corpus: corpus type (solar or lektor)\n",
    "    @param error: error file type (single error or multiple errors)\n",
    "    @return: data frame with the filtered corpus sentence data\n",
    "    \"\"\"\n",
    "    # Read corpus data\n",
    "    data = read_sentence_data(corpus, error)\n",
    "\n",
    "    sentence_count = data.sentence.str.split().apply(len)\n",
    "    data = data[\n",
    "        (sentence_count >= SENTENCE_MIN_LENGTH)\n",
    "        & (sentence_count <= SENTENCE_MAX_LENGTH)\n",
    "    ]\n",
    "\n",
    "    return data\n"
   ]
  },
  {
   "cell_type": "code",
   "execution_count": null,
   "metadata": {},
   "outputs": [],
   "source": [
    "def save_sentence_data():\n",
    "    \"\"\"\n",
    "    Saves the solar and lektor filtered sentence data to the csv file.\n",
    "    \"\"\"\n",
    "    # Get the data\n",
    "    data_solar_single = filter_sentence_data(Corpus.SOLAR, ErrorType.SINGLE)\n",
    "    data_solar_multiple = filter_sentence_data(Corpus.SOLAR, ErrorType.MULTIPLE)\n",
    "    data_lektor_single = filter_sentence_data(Corpus.LEKTOR, ErrorType.SINGLE)\n",
    "    data_lektor_multiple = filter_sentence_data(Corpus.LEKTOR, ErrorType.MULTIPLE)\n",
    "\n",
    "    data_solar_single.to_csv(\n",
    "        SOLAR_DIRECTORY + \"solar_data_single_error.csv\", index=False\n",
    "    )\n",
    "    data_solar_multiple.to_csv(\n",
    "        SOLAR_DIRECTORY + \"solar_data_multiple_error.csv\", index=False\n",
    "    )\n",
    "    prepare_data_sentence_logger.info(\"Solar data saved to csv file\")\n",
    "\n",
    "    data_lektor_single.to_csv(\n",
    "        LEKTOR_DIRECTORY + \"lektor_data_single_error.csv\", index=False\n",
    "    )\n",
    "    data_lektor_multiple.to_csv(\n",
    "        LEKTOR_DIRECTORY + \"lektor_data_multiple_error.csv\", index=False\n",
    "    )\n",
    "    prepare_data_sentence_logger.info(\"Lektor data saved to csv file\")\n",
    "    return\n"
   ]
  }
 ],
 "metadata": {
  "kernelspec": {
   "display_name": "Python 3.10.4 ('slovko')",
   "language": "python",
   "name": "python3"
  },
  "language_info": {
   "codemirror_mode": {
    "name": "ipython",
    "version": 3
   },
   "file_extension": ".py",
   "mimetype": "text/x-python",
   "name": "python",
   "nbconvert_exporter": "python",
   "pygments_lexer": "ipython3",
   "version": "3.10.4"
  },
  "orig_nbformat": 4,
  "vscode": {
   "interpreter": {
    "hash": "0b7441cdf19e0d28b58859c3a7d82aad7fb7437a4f6af83da442de25c6af8e16"
   }
  }
 },
 "nbformat": 4,
 "nbformat_minor": 2
}
