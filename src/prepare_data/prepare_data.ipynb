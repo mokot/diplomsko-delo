{
 "cells": [
  {
   "cell_type": "markdown",
   "metadata": {},
   "source": [
    "# Prepare Šolar and Lektor corpus data\n"
   ]
  },
  {
   "cell_type": "code",
   "execution_count": null,
   "metadata": {},
   "outputs": [],
   "source": [
    "#!/usr/bin/env python3\n",
    "# -*- coding: utf-8 -*-\n",
    "\n",
    "from utils.logging import get_logger\n",
    "from prepare_data_error import save_error_data\n",
    "from prepare_data_sentence import save_sentence_data\n",
    "\n",
    "# Import solar functions\n",
    "from solar_prepare_text import save_solar_text\n",
    "from solar_prepare_token import save_solar_token\n",
    "from solar_prepare_sentence import save_solar_sentence\n",
    "from solar_prepare_link import save_solar_link\n",
    "from solar_prepare_data import (\n",
    "    save_solar_data_multiple_error,\n",
    "    save_solar_data_single_error,\n",
    ")\n",
    "\n",
    "# Import lektor functions\n",
    "from lektor_prepare_text import save_lektor_text\n",
    "from lektor_prepare_token import save_lektor_token\n",
    "from lektor_prepare_sentence import save_lektor_sentence\n",
    "from lektor_prepare_data import (\n",
    "    save_lektor_data_multiple_error,\n",
    "    save_lektor_data_single_error,\n",
    ")\n",
    "\n",
    "# Import sloleks functions\n",
    "from sloleks_prepare_data import save_sloleks_data, save_sloleks_words\n"
   ]
  },
  {
   "cell_type": "code",
   "execution_count": null,
   "metadata": {},
   "outputs": [],
   "source": [
    "# Get logger\n",
    "prepare_data_logger = get_logger(\"Prepare Solar Corpus Data\")\n"
   ]
  },
  {
   "cell_type": "code",
   "execution_count": null,
   "metadata": {},
   "outputs": [],
   "source": [
    "def solar_prepare_data():\n",
    "    \"\"\"\n",
    "    Generate all required files for solar corpus.\n",
    "    \"\"\"\n",
    "    # Generate solar text data and save it to file\n",
    "    save_solar_text()\n",
    "\n",
    "    # Generate solar token data and save it to file\n",
    "    save_solar_token()\n",
    "\n",
    "    # Generate solar sentence data and save it to file\n",
    "    save_solar_sentence()\n",
    "\n",
    "    # Generate solar links between source and target data and save it to file\n",
    "    save_solar_link()\n",
    "\n",
    "    # Generate solar sentences with multiple errors and save it to file\n",
    "    save_solar_data_multiple_error()\n",
    "\n",
    "    # Generate solar sentences with single error and save it to file\n",
    "    save_solar_data_single_error()\n",
    "\n",
    "    return\n"
   ]
  },
  {
   "cell_type": "code",
   "execution_count": null,
   "metadata": {},
   "outputs": [],
   "source": [
    "def lektor_prepare_data():\n",
    "    \"\"\"\n",
    "    Generate all required files for lektor corpus.\n",
    "    \"\"\"\n",
    "    # Generate lektor text data and save it to file\n",
    "    save_lektor_text()\n",
    "\n",
    "    # Generate lektor token data and save it to file\n",
    "    save_lektor_token()\n",
    "\n",
    "    # Generate lektor sentence data and save it to file\n",
    "    save_lektor_sentence()\n",
    "\n",
    "    # Generate lektor sentences with multiple errors and save it to file\n",
    "    save_lektor_data_multiple_error()\n",
    "\n",
    "    # Generate lektor sentences with single error and save it to file\n",
    "    save_lektor_data_single_error()\n",
    "\n",
    "    return\n"
   ]
  },
  {
   "cell_type": "code",
   "execution_count": null,
   "metadata": {},
   "outputs": [],
   "source": [
    "def sloleks_prepare_data():\n",
    "    \"\"\"\n",
    "    Generate all required files for sloleks corpus.\n",
    "    \"\"\"\n",
    "    # Generate data and metadata and save it to files\n",
    "    save_error_data()\n",
    "\n",
    "    # Generate word list and save it to file\n",
    "    save_sloleks_words()\n",
    "\n",
    "    return\n"
   ]
  },
  {
   "cell_type": "code",
   "execution_count": null,
   "metadata": {},
   "outputs": [],
   "source": [
    "def main():\n",
    "    \"\"\"\n",
    "    Main function for solar and lektor data preparation.\n",
    "    \"\"\"\n",
    "    prepare_data_logger.info(\"Start\")\n",
    "    # Prepare solar data files\n",
    "    prepare_data_logger.info(\"Prepare solar data\")\n",
    "    solar_prepare_data()\n",
    "    # Prepare lektor data files\n",
    "    prepare_data_logger.info(\"Prepare lektor data\")\n",
    "    lektor_prepare_data()\n",
    "    # Prepare sloleks data files\n",
    "    prepare_data_logger.info(\"Prepare sloleks data\")\n",
    "    sloleks_prepare_data()\n",
    "    # Prepare solar and lektor error data\n",
    "    prepare_data_logger.info(\"Prepare error data\")\n",
    "    save_error_data()\n",
    "    # Filter solar and lektor error sentences (min length - 1, max length - 128)\n",
    "    prepare_data_logger.info(\"Filter error data\")\n",
    "    save_sentence_data()\n",
    "    prepare_data_logger.info(\"End\")\n",
    "\n",
    "    return\n"
   ]
  },
  {
   "cell_type": "code",
   "execution_count": null,
   "metadata": {},
   "outputs": [],
   "source": [
    "# Run solar and lektor data preparation\n",
    "main()\n"
   ]
  }
 ],
 "metadata": {
  "kernelspec": {
   "display_name": "Python 3.10.4 ('slovko')",
   "language": "python",
   "name": "python3"
  },
  "language_info": {
   "codemirror_mode": {
    "name": "ipython",
    "version": 3
   },
   "file_extension": ".py",
   "mimetype": "text/x-python",
   "name": "python",
   "nbconvert_exporter": "python",
   "pygments_lexer": "ipython3",
   "version": "3.10.4"
  },
  "orig_nbformat": 4,
  "vscode": {
   "interpreter": {
    "hash": "0b7441cdf19e0d28b58859c3a7d82aad7fb7437a4f6af83da442de25c6af8e16"
   }
  }
 },
 "nbformat": 4,
 "nbformat_minor": 2
}
