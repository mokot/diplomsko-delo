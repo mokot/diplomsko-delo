{
 "cells": [
  {
   "cell_type": "markdown",
   "metadata": {},
   "source": [
    "# Prepare Lektor corpus token data\n"
   ]
  },
  {
   "cell_type": "code",
   "execution_count": null,
   "metadata": {},
   "outputs": [],
   "source": [
    "#!/usr/bin/env python3\n",
    "# -*- coding: utf-8 -*-\n",
    "\n",
    "import pandas as pd\n",
    "import numpy as np\n",
    "\n",
    "from utils.logging import get_logger\n",
    "from utils.lektor_enum import Lektor\n",
    "from lektor_prepare_data import (\n",
    "    read_lektor,\n",
    "    get_lektor_lekt_data,\n",
    "    LEKTOR_DIRECTORY,\n",
    "    LEKTOR_TAG_W,\n",
    "    LEKTOR_TAG_C,\n",
    "    LEKTOR_TAG_LEKT,\n",
    "    LEKTOR_TAG_S1,\n",
    "    LEKTOR_TAG_S,\n",
    ")\n"
   ]
  },
  {
   "cell_type": "code",
   "execution_count": null,
   "metadata": {},
   "outputs": [],
   "source": [
    "# Get logger\n",
    "lektor_sentence_logger = get_logger(\"Prepare Lektor Corpus Sentence Data\")\n"
   ]
  },
  {
   "cell_type": "code",
   "execution_count": null,
   "metadata": {},
   "outputs": [],
   "source": [
    "def get_lektor_data_sentence(text=Lektor.COMPLETE):\n",
    "    \"\"\"\n",
    "    Gets the lektor corpus data and returns a data frame of sentences.\n",
    "\n",
    "    text = COMPLETE: complete text\n",
    "    text = SOURCE: source text\n",
    "    text = TARGET: target text\n",
    "\n",
    "    @param text: corpus type (complete, source or target)\n",
    "    @return: data frame of sentence ids and sentences\n",
    "    \"\"\"\n",
    "    index_text = [Lektor.SOURCE, Lektor.TARGET]  # default index_text - Lektor.COMPLETE\n",
    "    if text == Lektor.SOURCE or text == Lektor.TARGET:\n",
    "        index_text = [text]  # set index_text to Lektor.SOURCE or Lektor.TARGET\n",
    "    elif not text == Lektor.COMPLETE:\n",
    "        lektor_sentence_logger.warning(\"Invalid text parameter\")\n",
    "\n",
    "    # Read lektor corpus data\n",
    "    data_xml = read_lektor()\n",
    "\n",
    "    # Store sentence data\n",
    "    data = []\n",
    "    sentence = \"\"\n",
    "    sentence_id = \"\"\n",
    "    sentence_counter = 0\n",
    "\n",
    "    # Loop through the list of SOURCE or TARGET text\n",
    "    for index_i in index_text:\n",
    "        # Loop through the list of text (skip head)\n",
    "        for index_j in range(1, len(data_xml), 2):\n",
    "            # Loop through the list of p\n",
    "            for index_k in range(len(data_xml[index_j])):\n",
    "                sentence_counter = 0  # reset the sentence counter\n",
    "                # Loop through the list of w, c, lekt\n",
    "                for index_l in range(len(data_xml[index_j][index_k])):\n",
    "                    # Increase the sentence counter\n",
    "                    if data_xml[index_j][index_k][index_l].tag == LEKTOR_TAG_S1:\n",
    "                        # Add sentence tuple to data and reset temp data\n",
    "                        data.append([sentence_id, sentence])\n",
    "                        sentence_counter += 1  # increase the sentence counter\n",
    "                        sentence = \"\"\n",
    "                        sentence_id = \"{}.{}.{}\".format(\n",
    "                            index_j // 2 + 1, index_k + 1, sentence_counter\n",
    "                        )\n",
    "                        lektor_sentence_logger.info(\n",
    "                            \"Processing sentence: \" + sentence_id\n",
    "                        )\n",
    "\n",
    "                    elif (\n",
    "                        data_xml[index_j][index_k][index_l].tag == LEKTOR_TAG_W\n",
    "                        or data_xml[index_j][index_k][index_l].tag == LEKTOR_TAG_C\n",
    "                    ):\n",
    "                        # Special case for words and punctuation\n",
    "                        sentence += (\n",
    "                            data_xml[index_j][index_k][index_l].text\n",
    "                            if data_xml[index_j][index_k][index_l].text\n",
    "                            else \"\"\n",
    "                        )\n",
    "                    elif data_xml[index_j][index_k][index_l].tag == LEKTOR_TAG_S:\n",
    "                        # Special case for spaces\n",
    "                        sentence += \" \"\n",
    "                    elif LEKTOR_TAG_LEKT in data_xml[index_j][index_k][index_l].tag:\n",
    "                        # Special case for lektor\n",
    "                        temp_sentence, _ = get_lektor_lekt_data(\n",
    "                            data_xml[index_j][index_k][index_l], index_i\n",
    "                        )\n",
    "                        sentence += temp_sentence\n",
    "\n",
    "    # Append last sentence and remove first one (empty)\n",
    "    data.append([sentence_id, sentence])\n",
    "    data = data[1:]\n",
    "\n",
    "    df_columns = [\"id\", \"sentence\"]\n",
    "    df_rows = data\n",
    "\n",
    "    df = pd.DataFrame(df_rows, columns=df_columns)\n",
    "    return df\n"
   ]
  },
  {
   "cell_type": "code",
   "execution_count": null,
   "metadata": {},
   "outputs": [],
   "source": [
    "def save_lektor_sentence():\n",
    "    \"\"\"\n",
    "    Saves the lektor corpus sentences as a data frame to a csv file.\n",
    "    \"\"\"\n",
    "    # Get complete data frame\n",
    "    data_complete = get_lektor_data_sentence(text=Lektor.COMPLETE)\n",
    "    data_source = get_lektor_data_sentence(text=Lektor.SOURCE)\n",
    "    data_target = get_lektor_data_sentence(text=Lektor.TARGET)\n",
    "\n",
    "    data_complete.to_csv(LEKTOR_DIRECTORY + \"lektor_complete_sentence.csv\", index=False)\n",
    "    data_source.to_csv(LEKTOR_DIRECTORY + \"lektor_source_sentence.csv\", index=False)\n",
    "    data_target.to_csv(LEKTOR_DIRECTORY + \"lektor_target_sentence.csv\", index=False)\n",
    "    lektor_sentence_logger.info(\"Lektor data saved to csv file\")\n",
    "\n",
    "    return\n"
   ]
  }
 ],
 "metadata": {
  "kernelspec": {
   "display_name": "Python 3.10.4 ('slovko')",
   "language": "python",
   "name": "python3"
  },
  "language_info": {
   "codemirror_mode": {
    "name": "ipython",
    "version": 3
   },
   "file_extension": ".py",
   "mimetype": "text/x-python",
   "name": "python",
   "nbconvert_exporter": "python",
   "pygments_lexer": "ipython3",
   "version": "3.10.4"
  },
  "orig_nbformat": 4,
  "vscode": {
   "interpreter": {
    "hash": "0b7441cdf19e0d28b58859c3a7d82aad7fb7437a4f6af83da442de25c6af8e16"
   }
  }
 },
 "nbformat": 4,
 "nbformat_minor": 2
}
