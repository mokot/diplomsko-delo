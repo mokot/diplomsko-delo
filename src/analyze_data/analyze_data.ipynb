{
 "cells": [
  {
   "cell_type": "markdown",
   "metadata": {},
   "source": [
    "# Analyze Šolar and Lektor corpus data\n"
   ]
  },
  {
   "cell_type": "code",
   "execution_count": null,
   "metadata": {},
   "outputs": [],
   "source": [
    "#!/usr/bin/env python3\n",
    "# -*- coding: utf-8 -*-\n",
    "\n",
    "from utils.logging import get_logger\n",
    "from analyze_data_word import analyze_data_word\n",
    "from analyze_data_error import analyze_data_error\n",
    "from analyze_data_sentence import analyze_data_sentence\n"
   ]
  },
  {
   "cell_type": "code",
   "execution_count": null,
   "metadata": {},
   "outputs": [],
   "source": [
    "# Get logger\n",
    "analyze_data_logger = get_logger(\"Analyze Corpus Data\")\n"
   ]
  },
  {
   "cell_type": "code",
   "execution_count": null,
   "metadata": {},
   "outputs": [],
   "source": [
    "def main():\n",
    "    \"\"\"\n",
    "    Main function for solar and lektor data analysis.\n",
    "    \"\"\"\n",
    "    analyze_data_logger.info(\"Start\")\n",
    "    # Analyze word data\n",
    "    analyze_data_logger.info(\"Analyze word data\")\n",
    "    analyze_data_word()\n",
    "    # Analyze sentence data\n",
    "    analyze_data_logger.info(\"Analyze sentence data\")\n",
    "    analyze_data_sentence()\n",
    "    # Analyze error data\n",
    "    analyze_data_logger.info(\"Analyze error data\")\n",
    "    analyze_data_error()\n",
    "    analyze_data_logger.info(\"End\")\n",
    "\n",
    "    return\n"
   ]
  },
  {
   "cell_type": "code",
   "execution_count": null,
   "metadata": {},
   "outputs": [],
   "source": [
    "# Run solar and lektor data analysis\n",
    "main()\n"
   ]
  }
 ],
 "metadata": {
  "kernelspec": {
   "display_name": "Python 3.10.4 ('slovko')",
   "language": "python",
   "name": "python3"
  },
  "language_info": {
   "codemirror_mode": {
    "name": "ipython",
    "version": 3
   },
   "file_extension": ".py",
   "mimetype": "text/x-python",
   "name": "python",
   "nbconvert_exporter": "python",
   "pygments_lexer": "ipython3",
   "version": "3.10.4"
  },
  "orig_nbformat": 4,
  "vscode": {
   "interpreter": {
    "hash": "0b7441cdf19e0d28b58859c3a7d82aad7fb7437a4f6af83da442de25c6af8e16"
   }
  }
 },
 "nbformat": 4,
 "nbformat_minor": 2
}
