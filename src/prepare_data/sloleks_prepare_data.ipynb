{
 "cells": [
  {
   "cell_type": "markdown",
   "metadata": {},
   "source": [
    "# Prepare Sloleks corpus data"
   ]
  },
  {
   "cell_type": "code",
   "execution_count": null,
   "metadata": {},
   "outputs": [],
   "source": [
    "#!/usr/bin/env python3\n",
    "# -*- coding: utf-8 -*-\n",
    "\n",
    "import os\n",
    "import pandas as pd\n",
    "\n",
    "from utils.reading import read_xml\n",
    "from utils.logging import get_logger\n"
   ]
  },
  {
   "cell_type": "code",
   "execution_count": null,
   "metadata": {},
   "outputs": [],
   "source": [
    "# Get logger\n",
    "sloleks_data_logger = get_logger(\"Prepare Sloleks Corpus Data\")\n"
   ]
  },
  {
   "cell_type": "code",
   "execution_count": null,
   "metadata": {},
   "outputs": [],
   "source": [
    "# Constants\n",
    "SLOLEKS_FOLDER = \"./../../data/sloleks/\"\n"
   ]
  },
  {
   "cell_type": "code",
   "execution_count": null,
   "metadata": {},
   "outputs": [],
   "source": [
    "def save_sloleks_data():\n",
    "    \"\"\"\n",
    "    Generates the sloleks metadata and data from xml files and saves it into csv\n",
    "    files.\n",
    "    \"\"\"\n",
    "    for sloleks_file in sorted(os.listdir(SLOLEKS_FOLDER)):\n",
    "        # Remove all non xml files\n",
    "        if sloleks_file.split(\".\")[-1] != \"xml\":\n",
    "            continue\n",
    "\n",
    "        sloleks_data_logger.info(\"Processing: \" + sloleks_file)\n",
    "\n",
    "        # Read the xml file\n",
    "        data_xml = read_xml(SLOLEKS_FOLDER + sloleks_file)\n",
    "\n",
    "        # Read the sloleks data\n",
    "        metadata = []\n",
    "        data = []\n",
    "\n",
    "        # Loop through the list of entries\n",
    "        for index_i in range(len(data_xml)):\n",
    "            # Loop through the head of the entry\n",
    "            id = data_xml[index_i][0][2].get(\"sloleksId\")\n",
    "            lemma = data_xml[index_i][0][1][0].text\n",
    "            lexeme = data_xml[index_i][0][2][0].text\n",
    "            measure = int(data_xml[index_i][0][4][0].text)\n",
    "            # Loop through related entries\n",
    "            related_entries = []\n",
    "            for index_j in range(len(data_xml[index_i][0][5])):\n",
    "                related_entries.append(data_xml[index_i][0][5][index_j].text)\n",
    "            related_entries = \"|\".join(related_entries)\n",
    "            metadata.append((id, lemma, lexeme, related_entries, measure))\n",
    "\n",
    "            # Loop through the body of the entry\n",
    "            for index_j in range(len(data_xml[index_i][1][0])):\n",
    "                msd = data_xml[index_i][1][0][index_j][0].text\n",
    "\n",
    "                # Loop through the list of orthography representations\n",
    "                for index_k in range(len(data_xml[index_i][1][0][index_j][2][0])):\n",
    "                    word = data_xml[index_i][1][0][index_j][2][0][index_k][0].text\n",
    "                    measure = int(\n",
    "                        data_xml[index_i][1][0][index_j][2][0][index_k][1][0].text\n",
    "                    )\n",
    "                    data.append((id, msd, word, measure))\n",
    "\n",
    "        # Create a dataframe for metadata\n",
    "        metadata_columns = [\"id\", \"lemma\", \"lexeme\", \"related_entries\", \"measure\"]\n",
    "        metadata_rows = metadata\n",
    "        metadata = pd.DataFrame(metadata_rows, columns=metadata_columns)\n",
    "\n",
    "        # Create a dataframe for data\n",
    "        data_columns = [\"id\", \"msd\", \"word\", \"measure\"]\n",
    "        data_rows = data\n",
    "        data = pd.DataFrame(data_rows, columns=data_columns)\n",
    "\n",
    "        # Save created dataframes\n",
    "        sloleks_file = \".\".join(sloleks_file.split(\".\")[:-1]) + \".csv\"\n",
    "        metadata.to_csv(SLOLEKS_FOLDER + \"metadata_\" + sloleks_file, index=False)\n",
    "        data.to_csv(SLOLEKS_FOLDER + \"data_\" + sloleks_file, index=False)\n",
    "        sloleks_data_logger.info(\"Sloleks data and metadata saved\")\n",
    "\n",
    "    return\n"
   ]
  },
  {
   "cell_type": "code",
   "execution_count": null,
   "metadata": {},
   "outputs": [],
   "source": [
    "def save_sloleks_words(save_all=True):\n",
    "    \"\"\"\n",
    "    Generates the sloleks word data from xml files and saves it into csv\n",
    "    files.\n",
    "\n",
    "    @save_all: if true, save all words into one csv file\n",
    "    \"\"\"\n",
    "    # Store all words in one file\n",
    "    all_data = []\n",
    "    for sloleks_file in sorted(os.listdir(SLOLEKS_FOLDER)):\n",
    "        # Remove all non xml files\n",
    "        if sloleks_file.split(\".\")[-1] != \"xml\":\n",
    "            continue\n",
    "\n",
    "        sloleks_data_logger.info(\"Processing: \" + sloleks_file)\n",
    "\n",
    "        # Read the xml file\n",
    "        data_xml = read_xml(SLOLEKS_FOLDER + sloleks_file)\n",
    "\n",
    "        # Read the sloleks data\n",
    "        data = []\n",
    "\n",
    "        # Loop through the list of entries\n",
    "        for index_i in range(len(data_xml)):\n",
    "            # Loop through the body of the entry\n",
    "            for index_j in range(len(data_xml[index_i][1][0])):\n",
    "                # Loop through the list of orthography representations\n",
    "                for index_k in range(len(data_xml[index_i][1][0][index_j][2][0])):\n",
    "                    word = data_xml[index_i][1][0][index_j][2][0][index_k][0].text\n",
    "                    data.append(word)\n",
    "                    all_data.append(word) if save_all else None\n",
    "\n",
    "        # Create a dataframe for data\n",
    "        data_columns = [\"word\"]\n",
    "        data_rows = data\n",
    "        data = pd.DataFrame(data_rows, columns=data_columns)\n",
    "\n",
    "        # Save created dataframes\n",
    "        sloleks_file = \".\".join(sloleks_file.split(\".\")[:-1]) + \".csv\"\n",
    "        data.to_csv(SLOLEKS_FOLDER + sloleks_file, index=False)\n",
    "        sloleks_data_logger.info(\"Sloleks word data saved\")\n",
    "\n",
    "    if save_all:\n",
    "        # Create a dataframe for data\n",
    "        df_columns = [\"word\"]\n",
    "        df_rows = all_data\n",
    "        df = pd.DataFrame(df_rows, columns=df_columns)\n",
    "\n",
    "        # Save created dataframes\n",
    "        df.to_csv(SLOLEKS_FOLDER + \"sloleks.csv\", index=False)\n",
    "        sloleks_data_logger.info(\"Sloleks all words data saved\")\n",
    "\n",
    "    return\n"
   ]
  }
 ],
 "metadata": {
  "kernelspec": {
   "display_name": "Python 3.10.4 ('slovko')",
   "language": "python",
   "name": "python3"
  },
  "language_info": {
   "codemirror_mode": {
    "name": "ipython",
    "version": 3
   },
   "file_extension": ".py",
   "mimetype": "text/x-python",
   "name": "python",
   "nbconvert_exporter": "python",
   "pygments_lexer": "ipython3",
   "version": "3.10.4"
  },
  "orig_nbformat": 4,
  "vscode": {
   "interpreter": {
    "hash": "0b7441cdf19e0d28b58859c3a7d82aad7fb7437a4f6af83da442de25c6af8e16"
   }
  }
 },
 "nbformat": 4,
 "nbformat_minor": 2
}
