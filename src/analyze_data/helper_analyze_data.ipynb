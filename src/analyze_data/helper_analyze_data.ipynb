{
 "cells": [
  {
   "cell_type": "markdown",
   "metadata": {},
   "source": [
    "# Helper functions for Šolar and Lektor corpus data analysis\n"
   ]
  },
  {
   "cell_type": "code",
   "execution_count": null,
   "metadata": {},
   "outputs": [],
   "source": [
    "#!/usr/bin/env python3\n",
    "# -*- coding: utf-8 -*-\n",
    "\n",
    "import pandas as pd\n",
    "\n",
    "from utils.corpus_enum import Corpus\n",
    "from utils.logging import get_logger\n",
    "from utils.file_type_enum import FileType\n"
   ]
  },
  {
   "cell_type": "code",
   "execution_count": null,
   "metadata": {},
   "outputs": [],
   "source": [
    "# Get logger\n",
    "analyze_data_logger = get_logger(\"Analyze Corpus Data\")\n"
   ]
  },
  {
   "cell_type": "code",
   "execution_count": null,
   "metadata": {},
   "outputs": [],
   "source": [
    "# Constants\n",
    "SOLAR_DIRECTORY = \"../../data/solar/\"\n",
    "SOLAR_FILE_TOKEN = \"../../data/solar/solar_complete_token.csv\"  # complete solar data\n",
    "SOLAR_FILE_SOURCE_TOKEN = \"../../data/solar/solar_source_token.csv\"  # source solar data\n",
    "SOLAR_FILE_TARGET_TOKEN = \"../../data/solar/solar_target_token.csv\"  # target solar data\n",
    "SOLAR_FILE_ERROR = \"../../data/solar/solar_data_single_error.csv\"  # solar data with errors\n",
    "SOLAR_FILE_LINK = \"../../data/solar/solar_link.csv\"  # link solar data\n",
    "LEKTOR_DIRECTORY = \"../../data/lektor/\"\n",
    "LEKTOR_FILE_TOKEN = (\n",
    "    \"../../data/lektor/lektor_complete_token.csv\"  # complete lektor data\n",
    ")\n",
    "LEKTOR_FILE_SOURCE_TOKEN = (\n",
    "    \"../../data/lektor/lektor_source_token.csv\"  # source lektor data\n",
    ")\n",
    "LEKTOR_FILE_TARGET_TOKEN = (\n",
    "    \"../../data/lektor/lektor_target_token.csv\"  # target lektor data\n",
    ")\n",
    "LEKTOR_FILE_ERROR = \"../../data/lektor/lektor_data_single_error.csv\"  # lektor data with errors\n",
    "MSD_INDEX_FILE = \"../../slovene_specification/MSD_index.csv\"  # MSD index\n",
    "CATEGORY_INDEX_FILE = \"../../slovene_specification/category_index.csv\"  # category index\n"
   ]
  },
  {
   "cell_type": "code",
   "execution_count": null,
   "metadata": {},
   "outputs": [],
   "source": [
    "def read_corpus(corpus=Corpus.SOLAR, text=FileType.COMPLETE):\n",
    "    \"\"\"\n",
    "    Reads the solar or lektor corpus token data and returns a data frame.\n",
    "    \"\"\"\n",
    "    data_path = SOLAR_FILE_TOKEN\n",
    "    if corpus == Corpus.LEKTOR:\n",
    "        if text == FileType.COMPLETE:\n",
    "            data_path = LEKTOR_FILE_TOKEN\n",
    "        elif text == FileType.SOURCE:\n",
    "            data_path = LEKTOR_FILE_SOURCE_TOKEN\n",
    "        elif text == FileType.TARGET:\n",
    "            data_path = LEKTOR_FILE_TARGET_TOKEN\n",
    "    else:\n",
    "        if text == FileType.SOURCE:\n",
    "            data_path = SOLAR_FILE_SOURCE_TOKEN\n",
    "        elif text == FileType.TARGET:\n",
    "            data_path = SOLAR_FILE_TARGET_TOKEN\n",
    "        elif text == FileType.LINK:\n",
    "            data_path = SOLAR_FILE_LINK\n",
    "\n",
    "    # Read the solar or lektor token data from the file\n",
    "    data = pd.read_csv(data_path)\n",
    "    analyze_data_logger.info(\"Corpus data read\")\n",
    "\n",
    "    return data\n"
   ]
  },
  {
   "cell_type": "code",
   "execution_count": null,
   "metadata": {},
   "outputs": [],
   "source": [
    "def read_error_data(corpus=Corpus.SOLAR):\n",
    "    \"\"\"\n",
    "    Reads the solar or lektor error data and returns a data frame.\n",
    "    \"\"\"\n",
    "    data_path = SOLAR_FILE_ERROR\n",
    "    if corpus == Corpus.LEKTOR:\n",
    "        data_path = LEKTOR_FILE_ERROR\n",
    "\n",
    "    # Read the solar or lektor error data from the file\n",
    "    data = pd.read_csv(data_path, keep_default_na=False)\n",
    "    analyze_data_logger.info(\"Corpus error data read\")\n",
    "\n",
    "    return data\n"
   ]
  },
  {
   "cell_type": "code",
   "execution_count": null,
   "metadata": {},
   "outputs": [],
   "source": [
    "def get_msd_index():\n",
    "    \"\"\"\n",
    "    Reads the MSD index for Slovenian Language and returns the combination\n",
    "    of value end features for each category.\n",
    "    \"\"\"\n",
    "    msd_index = pd.read_csv(MSD_INDEX_FILE, keep_default_na=False)\n",
    "    analyze_data_logger.info(\"MSD index read\")\n",
    "\n",
    "    return msd_index[[\"MSD (sl)\", \"Features (sl)\"]]\n"
   ]
  },
  {
   "cell_type": "code",
   "execution_count": null,
   "metadata": {},
   "outputs": [],
   "source": [
    "def get_category_index():\n",
    "    \"\"\"\n",
    "    Reads the category index for Slovenian Language and returns the combination\n",
    "    of value end code for each category.\n",
    "    \"\"\"\n",
    "    category_index = pd.read_csv(CATEGORY_INDEX_FILE, keep_default_na=False)\n",
    "    analyze_data_logger.info(\"Category index read\")\n",
    "\n",
    "    return category_index[[\"Value (sl)\", \"Code (sl)\"]]\n"
   ]
  }
 ],
 "metadata": {
  "kernelspec": {
   "display_name": "Python 3.10.4 ('slovko')",
   "language": "python",
   "name": "python3"
  },
  "language_info": {
   "codemirror_mode": {
    "name": "ipython",
    "version": 3
   },
   "file_extension": ".py",
   "mimetype": "text/x-python",
   "name": "python",
   "nbconvert_exporter": "python",
   "pygments_lexer": "ipython3",
   "version": "3.10.4"
  },
  "orig_nbformat": 4,
  "vscode": {
   "interpreter": {
    "hash": "0b7441cdf19e0d28b58859c3a7d82aad7fb7437a4f6af83da442de25c6af8e16"
   }
  }
 },
 "nbformat": 4,
 "nbformat_minor": 2
}
