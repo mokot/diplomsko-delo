{
 "cells": [
  {
   "cell_type": "markdown",
   "metadata": {},
   "source": [
    "# Prepare Šolar corpus text data\n"
   ]
  },
  {
   "cell_type": "code",
   "execution_count": null,
   "metadata": {},
   "outputs": [],
   "source": [
    "#!/usr/bin/env python3\n",
    "# -*- coding: utf-8 -*-\n",
    "\n",
    "from utils.solar_enum import Solar\n",
    "from utils.logging import get_logger\n",
    "from solar_prepare_data import read_solar, SOLAR_DIRECTORY, SOLAR_TAG_SEG\n"
   ]
  },
  {
   "cell_type": "code",
   "execution_count": null,
   "metadata": {},
   "outputs": [],
   "source": [
    "# Get logger\n",
    "solar_text_logger = get_logger(\"Prepare Solar Corpus Text Data\")\n"
   ]
  },
  {
   "cell_type": "code",
   "execution_count": null,
   "metadata": {},
   "outputs": [],
   "source": [
    "def get_solar_word_text(data_xml, space_flag=False):\n",
    "    \"\"\"\n",
    "    Returns the word text from the solar data.\n",
    "\n",
    "    @param data_xml: the solar data in xml format\n",
    "    @param space_flag: whether to add space between words\n",
    "    @return: the word text\n",
    "    \"\"\"\n",
    "    word_text = data_xml.text\n",
    "\n",
    "    # If word has property join right don't add space\n",
    "    if not data_xml.get(\"join\") == \"right\" and not space_flag:\n",
    "        word_text += \" \"\n",
    "\n",
    "    return word_text\n"
   ]
  },
  {
   "cell_type": "code",
   "execution_count": null,
   "metadata": {},
   "outputs": [],
   "source": [
    "def get_solar_text(text=Solar.COMPLETE):\n",
    "    \"\"\"\n",
    "    Gets the solar corpus data and returns a string of text.\n",
    "\n",
    "    text = COMPLETE: complete text\n",
    "    text = SOURCE: source text\n",
    "    text = TARGET: target text\n",
    "\n",
    "    @param text: corpus type (complete, source or target)\n",
    "    @return: the corpus data in text format\n",
    "    \"\"\"\n",
    "    index_text = [0, 1]  # default index_text - Solar.COMPLETE\n",
    "    if text == Solar.SOURCE:\n",
    "        index_text = [0]  # set index_text to Solar.SOURCE\n",
    "    elif text == Solar.TARGET:\n",
    "        index_text = [1]  # set index_text to Solar.TARGET\n",
    "    elif not text == Solar.COMPLETE:\n",
    "        solar_text_logger.warning(\"Invalid text parameter\")\n",
    "\n",
    "    # Read solar corpus data\n",
    "    data_xml = read_solar()\n",
    "    data = []\n",
    "\n",
    "    # Loop through the list of text\n",
    "    for index_i in index_text:\n",
    "        temp_data = \"\"\n",
    "        # Loop through the list of div\n",
    "        for index_j in range(len(data_xml[1][0][index_i][0])):\n",
    "            # Loop through the list of p (skip bibl)\n",
    "            for index_k in range(1, len(data_xml[1][0][index_i][0][index_j])):\n",
    "                # Loop through the list of s\n",
    "                for index_l in range(len(data_xml[1][0][index_i][0][index_j][index_k])):\n",
    "                    # Loop through the list of w, pc, seg (skip linkGrp)\n",
    "                    for index_m in range(\n",
    "                        len(data_xml[1][0][index_i][0][index_j][index_k][index_l]) - 1\n",
    "                    ):\n",
    "                        if (\n",
    "                            data_xml[1][0][index_i][0][index_j][index_k][index_l][\n",
    "                                index_m\n",
    "                            ].tag\n",
    "                            == SOLAR_TAG_SEG\n",
    "                        ):\n",
    "                            # Loop through the list of w, pc in seg\n",
    "                            for index_n in range(\n",
    "                                len(\n",
    "                                    data_xml[1][0][index_i][0][index_j][index_k][\n",
    "                                        index_l\n",
    "                                    ][index_m]\n",
    "                                )\n",
    "                            ):\n",
    "                                temp_data += get_solar_word_text(\n",
    "                                    data_xml[1][0][index_i][0][index_j][index_k][\n",
    "                                        index_l\n",
    "                                    ][index_m][index_n]\n",
    "                                )\n",
    "                        else:\n",
    "                            temp_data += get_solar_word_text(\n",
    "                                data_xml[1][0][index_i][0][index_j][index_k][index_l][\n",
    "                                    index_m\n",
    "                                ]\n",
    "                            )\n",
    "\n",
    "                temp_data += \"\\n\"\n",
    "            temp_data += \"\\n\"\n",
    "        data.append(temp_data)\n",
    "\n",
    "    return data\n"
   ]
  },
  {
   "cell_type": "code",
   "execution_count": null,
   "metadata": {},
   "outputs": [],
   "source": [
    "def save_solar_text():\n",
    "    \"\"\"\n",
    "    Saves the solar corpus text as a txt file.\n",
    "    \"\"\"\n",
    "    # Get complete text\n",
    "    data = get_solar_text(text=Solar.COMPLETE)\n",
    "\n",
    "    # Write data in source and target files\n",
    "    for index, filename in enumerate(\n",
    "        [\"solar_source_text.txt\", \"solar_target_text.txt\"]\n",
    "    ):\n",
    "        with open(SOLAR_DIRECTORY + filename, \"w\") as file:\n",
    "            file.write(data[index])\n",
    "            file.close()\n",
    "\n",
    "    # Write data in solar file\n",
    "    with open(SOLAR_DIRECTORY + \"solar_complete_text.txt\", \"w\") as file:\n",
    "        file.writelines(data)\n",
    "        file.close()\n",
    "\n",
    "    solar_text_logger.info(\"Solar data saved to txt file\")\n",
    "\n",
    "    return\n"
   ]
  }
 ],
 "metadata": {
  "kernelspec": {
   "display_name": "Python 3.10.4 ('slovko')",
   "language": "python",
   "name": "python3"
  },
  "language_info": {
   "codemirror_mode": {
    "name": "ipython",
    "version": 3
   },
   "file_extension": ".py",
   "mimetype": "text/x-python",
   "name": "python",
   "nbconvert_exporter": "python",
   "pygments_lexer": "ipython3",
   "version": "3.10.4"
  },
  "vscode": {
   "interpreter": {
    "hash": "0b7441cdf19e0d28b58859c3a7d82aad7fb7437a4f6af83da442de25c6af8e16"
   }
  }
 },
 "nbformat": 4,
 "nbformat_minor": 2
}
