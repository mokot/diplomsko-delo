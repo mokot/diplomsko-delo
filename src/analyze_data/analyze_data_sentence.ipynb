{
 "cells": [
  {
   "cell_type": "markdown",
   "metadata": {},
   "source": [
    "# Analyze Šolar and Lektor corpus sentence data\n"
   ]
  },
  {
   "cell_type": "code",
   "execution_count": null,
   "metadata": {},
   "outputs": [],
   "source": [
    "#!/usr/bin/env python3\n",
    "# -*- coding: utf-8 -*-\n",
    "\n",
    "import collections\n",
    "import pandas as pd\n",
    "import matplotlib.pyplot as plt\n",
    "\n",
    "from utils.logging import get_logger\n",
    "from utils.corpus_enum import Corpus\n",
    "from utils.colors import COLOR_GRID, COLOR_LINE\n",
    "from utils.font_types import FONT_TITLE, FONT_LABEL\n",
    "from helper_analyze_data import read_error_data, SOLAR_DIRECTORY, LEKTOR_DIRECTORY\n"
   ]
  },
  {
   "cell_type": "code",
   "execution_count": null,
   "metadata": {},
   "outputs": [],
   "source": [
    "# Get logger\n",
    "analyze_sentence_logger = get_logger(\"Analyze Corpus Sentence Data\")\n"
   ]
  },
  {
   "cell_type": "code",
   "execution_count": null,
   "metadata": {},
   "outputs": [],
   "source": [
    "def plot_sentence_analysis(corpus=Corpus.SOLAR, save=False):\n",
    "    \"\"\"\n",
    "    Plots the sentence analysis for the solar or lektor corpus data.\n",
    "\n",
    "    @param corpus: corpus type (solar or lektor)\n",
    "    @param save: flag that indicates if plot is saved or shown\n",
    "    @return: nothing\n",
    "    \"\"\"\n",
    "    corpus_name = \"lektor\" if corpus == Corpus.LEKTOR else \"solar\"\n",
    "\n",
    "    # Read the corpus sentence data\n",
    "    data = read_error_data(corpus)\n",
    "    sentence_count = collections.Counter(data.sentence.str.split().apply(len))\n",
    "\n",
    "    # Specify the figure size for the plot and its background color\n",
    "    plt.rcParams[\"figure.figsize\"] = (20, 12)\n",
    "    plt.rcParams[\"figure.facecolor\"] = \"white\"\n",
    "    plt.rcParams[\"font.family\"] = \"serif\"\n",
    "    plt.rcParams[\"font.size\"] = 11\n",
    "\n",
    "    # Specify the padding between the plot and the title/labels\n",
    "    plt.rcParams[\"axes.titlepad\"] = 30\n",
    "    plt.rcParams[\"axes.labelpad\"] = 20\n",
    "\n",
    "    plt.bar(\n",
    "        sentence_count.keys(), sentence_count.values()\n",
    "    )  # plot the data as a bar chart\n",
    "    plt.title(\"ŠTEVILO BESED V STAVKU\", fontdict=FONT_TITLE)  # add a title to the plot\n",
    "    plt.xlabel(\"DOLŽINA STAVKA\", fontdict=FONT_LABEL)  # add an x-label to the plot\n",
    "    plt.ylabel(\"ŠTEVILO POJAVITEV\", fontdict=FONT_LABEL)  # add a y-label to the plot\n",
    "    plt.grid(color=COLOR_GRID, linestyle=\"--\", linewidth=1, axis=\"y\", alpha=0.5)\n",
    "\n",
    "    plt.axvline(\n",
    "        x=3.5, color=COLOR_LINE, linestyle=\"--\", linewidth=2\n",
    "    )  # add vertical line\n",
    "    plt.axvline(\n",
    "        x=64.5, color=COLOR_LINE, linestyle=\"--\", linewidth=2\n",
    "    )  # add vertical line\n",
    "\n",
    "    # Show or save the plot\n",
    "    if save:\n",
    "        plt.savefig(\n",
    "            (LEKTOR_DIRECTORY if corpus == Corpus.LEKTOR else SOLAR_DIRECTORY)\n",
    "            + \"analysis/\"\n",
    "            + \"{}_analysis_sentence.png\".format(corpus_name),\n",
    "        )\n",
    "        analyze_sentence_logger.info(\n",
    "            \"{} error analysis plot saved to a file\".format(corpus_name)\n",
    "        )\n",
    "    else:\n",
    "        plt.show()\n",
    "\n",
    "    # Close the plot\n",
    "    plt.close()\n",
    "\n",
    "    return\n"
   ]
  },
  {
   "cell_type": "code",
   "execution_count": null,
   "metadata": {},
   "outputs": [],
   "source": [
    "def save_sentence_error_ratio_analysis(corpus=Corpus.SOLAR):\n",
    "    \"\"\"\n",
    "    Calculates the sentence error ratio and saves it to a csv file.\n",
    "\n",
    "    @param corpus: corpus type (solar or lektor)\n",
    "    @return: nothing\n",
    "    \"\"\"\n",
    "    corpus_name = \"lektor\" if corpus == Corpus.LEKTOR else \"solar\"\n",
    "\n",
    "    # Read the corpus sentence data\n",
    "    data = read_error_data(corpus)\n",
    "    sentence_number = len(data.id.unique())\n",
    "    error_number = len(data.error != \"\")\n",
    "    sentence_error_ratio = error_number / sentence_number\n",
    "\n",
    "    # Create a data frame and save it to the csv file\n",
    "    df_columns = [\"sentence_number\", \"error_number\", \"ratio\"]\n",
    "    df_rows = [[sentence_number, error_number, sentence_error_ratio]]\n",
    "\n",
    "    df = pd.DataFrame(df_rows, columns=df_columns)\n",
    "    df.to_csv(\n",
    "        (LEKTOR_DIRECTORY if corpus == Corpus.LEKTOR else SOLAR_DIRECTORY)\n",
    "        + \"analysis/\"\n",
    "        + \"{}_analysis_sentence_error_ratio.csv\".format(corpus_name),\n",
    "        index=False,\n",
    "    )\n",
    "    analyze_sentence_logger.info(\n",
    "        \"{} sentence analysis saved to csv file\".format(corpus_name)\n",
    "    )\n",
    "\n",
    "    return\n"
   ]
  },
  {
   "cell_type": "code",
   "execution_count": null,
   "metadata": {},
   "outputs": [],
   "source": [
    "def analyze_data_sentence():\n",
    "    \"\"\"\n",
    "    Analyze sentence data of the solar and lektor corpus.\n",
    "    \"\"\"\n",
    "    # Save the sentence analysis for the solar and lektor corpus data\n",
    "    plot_sentence_analysis(Corpus.SOLAR, save=True)\n",
    "    plot_sentence_analysis(Corpus.LEKTOR, save=True)\n",
    "\n",
    "    # Save the sentence error ratio for the solar and lektor corpus data\n",
    "    save_sentence_error_ratio_analysis(Corpus.SOLAR)\n",
    "    save_sentence_error_ratio_analysis(Corpus.LEKTOR)\n",
    "\n",
    "    return\n"
   ]
  }
 ],
 "metadata": {
  "kernelspec": {
   "display_name": "Python 3.10.4 ('slovko')",
   "language": "python",
   "name": "python3"
  },
  "language_info": {
   "codemirror_mode": {
    "name": "ipython",
    "version": 3
   },
   "file_extension": ".py",
   "mimetype": "text/x-python",
   "name": "python",
   "nbconvert_exporter": "python",
   "pygments_lexer": "ipython3",
   "version": "3.10.4"
  },
  "orig_nbformat": 4,
  "vscode": {
   "interpreter": {
    "hash": "0b7441cdf19e0d28b58859c3a7d82aad7fb7437a4f6af83da442de25c6af8e16"
   }
  }
 },
 "nbformat": 4,
 "nbformat_minor": 2
}
