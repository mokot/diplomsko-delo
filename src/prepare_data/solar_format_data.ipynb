{
 "cells": [
  {
   "cell_type": "markdown",
   "metadata": {},
   "source": [
    "# Fomrat Šolar corpus data\n"
   ]
  },
  {
   "cell_type": "code",
   "execution_count": null,
   "metadata": {},
   "outputs": [],
   "source": [
    "#!/usr/bin/env python3\n",
    "# -*- coding: utf-8 -*-\n",
    "\n",
    "import logging\n",
    "import xml.etree.ElementTree as ET\n",
    "\n",
    "from utils.logging import get_logger\n",
    "from solar_prepare_data import SOLAR_DIRECTORY, SOLAR_FILE\n"
   ]
  },
  {
   "cell_type": "code",
   "execution_count": null,
   "metadata": {},
   "outputs": [],
   "source": [
    "# Get logger\n",
    "solar_data_logger = get_logger(\"Format Solar Corpus Data\")\n"
   ]
  },
  {
   "cell_type": "code",
   "execution_count": null,
   "metadata": {},
   "outputs": [],
   "source": [
    "# Constants\n",
    "SOLAR_SOURCE_FILE = \"Developmental corpus Šolar 3.0/Solar.TEI/\"\n",
    "SOLAR_FILE_META = SOLAR_DIRECTORY + SOLAR_SOURCE_FILE + \"solar.xml\"\n",
    "SOLAR_FILE_SOURCE = SOLAR_DIRECTORY + SOLAR_SOURCE_FILE + \"solar-orig.xml\"\n",
    "SOLAR_FILE_TARGET = SOLAR_DIRECTORY + SOLAR_SOURCE_FILE + \"solar-corr.xml\"\n",
    "SOLAR_FILE_LINK = SOLAR_DIRECTORY + SOLAR_SOURCE_FILE + \"solar-errs.xml\"\n"
   ]
  },
  {
   "cell_type": "code",
   "execution_count": null,
   "metadata": {},
   "outputs": [],
   "source": [
    "def main():\n",
    "    \"\"\"\n",
    "    Main function for the solar format data. Functions extracts origin sentences,\n",
    "    corrected sentences, error types and metadata from various xml files and\n",
    "    writes it to one combined file.\n",
    "    \"\"\"\n",
    "    # Pass the path of the xml document to enable the parsing process\n",
    "    element_tree_meta = ET.parse(SOLAR_FILE_META)\n",
    "    element_tree_source = ET.parse(SOLAR_FILE_SOURCE)\n",
    "    element_tree_target = ET.parse(SOLAR_FILE_TARGET)\n",
    "    element_tree_link = ET.parse(SOLAR_FILE_LINK)\n",
    "\n",
    "    # Get the parent tag of the xml document\n",
    "    root_meta = element_tree_meta.getroot()\n",
    "    root_source = element_tree_source.getroot()\n",
    "    root_target = element_tree_target.getroot()\n",
    "    root_link = element_tree_link.getroot()\n",
    "\n",
    "    # Map source, target and link to include tag\n",
    "    root_meta[1][0][0] = root_source\n",
    "    root_meta[1][0][1] = root_target\n",
    "    root_meta[2] = root_link\n",
    "\n",
    "    # Save the xml file\n",
    "    element_tree_meta.write(\n",
    "        SOLAR_FILE,\n",
    "        encoding=\"utf-8\",\n",
    "        xml_declaration=True,\n",
    "        default_namespace=ET.register_namespace(\"\", \"http://www.tei-c.org/ns/1.0\"),\n",
    "        method=\"xml\",\n",
    "    )\n"
   ]
  },
  {
   "cell_type": "code",
   "execution_count": null,
   "metadata": {},
   "outputs": [],
   "source": [
    "# Run solar data format\n",
    "main()\n"
   ]
  }
 ],
 "metadata": {
  "kernelspec": {
   "display_name": "Python 3.8.10 64-bit",
   "language": "python",
   "name": "python3"
  },
  "language_info": {
   "codemirror_mode": {
    "name": "ipython",
    "version": 3
   },
   "file_extension": ".py",
   "mimetype": "text/x-python",
   "name": "python",
   "nbconvert_exporter": "python",
   "pygments_lexer": "ipython3",
   "version": "3.8.10"
  },
  "orig_nbformat": 4,
  "vscode": {
   "interpreter": {
    "hash": "916dbcbb3f70747c44a77c7bcd40155683ae19c65e1c03b4aa3499c5328201f1"
   }
  }
 },
 "nbformat": 4,
 "nbformat_minor": 2
}
