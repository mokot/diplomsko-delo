{
 "cells": [
  {
   "cell_type": "markdown",
   "metadata": {},
   "source": [
    "# Slovene Specification\n",
    "\n",
    "### MULTEXT-East Morphosyntactic Specification for Slovene language.\n",
    "\n",
    "_Reference: [http://nl.ijs.si/ME/V6/msd/html/msd-sl.html](http://nl.ijs.si/ME/V6/msd/html/msd-sl.html)_\n"
   ]
  },
  {
   "cell_type": "code",
   "execution_count": null,
   "metadata": {},
   "outputs": [],
   "source": [
    "#!/usr/bin/env python3\n",
    "# -*- coding: utf-8 -*-\n",
    "\n",
    "import logging\n",
    "import numpy as np\n",
    "import pandas as pd\n",
    "import xml.etree.ElementTree as ET\n",
    "\n",
    "from os.path import exists\n"
   ]
  },
  {
   "cell_type": "code",
   "execution_count": null,
   "metadata": {},
   "outputs": [],
   "source": [
    "# Config logger\n",
    "logging.basicConfig(\n",
    "    format=\"%(asctime)s - %(levelname)s - Slovene Specification: %(message)s\",\n",
    "    level=logging.INFO,\n",
    "    datefmt=\"%d-%b-%y %H:%M:%S\",\n",
    ")\n"
   ]
  },
  {
   "cell_type": "code",
   "execution_count": null,
   "metadata": {},
   "outputs": [],
   "source": [
    "# Constants\n",
    "# Specification is available here: http://nl.ijs.si/ME/V6/msd/html/msd-sl.html\n",
    "#   or here: http://nl.ijs.si/ME/V6/msd/xml/msd-sl.spc.xml\n",
    "DATA_FILE = \"./slovene_specification.xml\"\n",
    "MSD_INDEX_FILE = \"./MSD_index.csv\"\n"
   ]
  },
  {
   "cell_type": "code",
   "execution_count": null,
   "metadata": {},
   "outputs": [],
   "source": [
    "def read_xml(file_name):\n",
    "    \"\"\"\n",
    "    Reads an xml file and returns the root element.\n",
    "    \"\"\"\n",
    "    # Pass the path of the xml document to enable the parsing process\n",
    "    element_tree = ET.parse(file_name)\n",
    "\n",
    "    # Get the parent tag of the xml document\n",
    "    root = element_tree.getroot()\n",
    "\n",
    "    # Return the root tag of the xml document, along with its memory location\n",
    "    return root\n"
   ]
  },
  {
   "cell_type": "code",
   "execution_count": null,
   "metadata": {},
   "outputs": [],
   "source": [
    "def get_slovene_index(data_xml):\n",
    "    \"\"\"\n",
    "    # 6/1: Returns the Slovene category index in the xml file.\n",
    "    # 20/2: Returns the Slovene attribute index in the xml file.\n",
    "    # 21/2: Returns the Slovene value index in the xml file.\n",
    "    # 22/2(:): Returns the Slovene MSD index in the xml file.\n",
    "\n",
    "    Example: get_category_index(root[#][#][1(:)])\n",
    "    \"\"\"\n",
    "    data = []\n",
    "\n",
    "    for row in data_xml:\n",
    "        temp_data = []\n",
    "        for column in row:\n",
    "            temp_data.append(column.text)\n",
    "        data.append(temp_data)\n",
    "\n",
    "    df_columns = data[0]\n",
    "    df_rows = data[1:]\n",
    "\n",
    "    df = pd.DataFrame(df_rows, columns=df_columns)\n",
    "    return df\n"
   ]
  },
  {
   "cell_type": "code",
   "execution_count": null,
   "metadata": {},
   "outputs": [],
   "source": [
    "def get_slovene_pos(data_xml):\n",
    "    \"\"\"\n",
    "    # 7: Returns the Slovene nouns from the xml file.\n",
    "    # 8: Returns the Slovene verbs from the xml file.\n",
    "    # 9: Returns the Slovene adjectives from the xml file.\n",
    "    # 10: Returns the Slovene adverbs from the xml file.\n",
    "    # 11: Returns the Slovene pronouns from the xml file.\n",
    "    # 12: Returns the Slovene numerals from the xml file.\n",
    "    # 13: Returns the Slovene prepositions from the xml file.\n",
    "    # 14: Returns the Slovene conjunctions from the xml file.\n",
    "    # 15: Returns the Slovene particles from the xml file.\n",
    "    # 16: Returns the Slovene interjections from the xml file.\n",
    "    # 17: Returns the Slovene abbreviations from the xml file.\n",
    "    # 18: Returns the Slovene residuals from the xml file.\n",
    "    # 19: Returns the Slovene punctuations from the xml file.\n",
    "\n",
    "    Example: get_Slovene_pos(root[#][1][1:])\n",
    "    \"\"\"\n",
    "    data = []\n",
    "\n",
    "    for row in data_xml:\n",
    "        temp_data = []\n",
    "        if len(row) == 7:\n",
    "            for column in row:\n",
    "                temp_data.append(column.text)\n",
    "            data.append(temp_data)\n",
    "        else:\n",
    "            type_data = []\n",
    "            for column in row:\n",
    "                if not column.attrib.get(\"role\") == \"values\":\n",
    "                    type_data.append(column.text)\n",
    "                else:\n",
    "                    for temp_row in column[0]:\n",
    "                        value_data = []\n",
    "                        for temp_column in temp_row:\n",
    "                            value_data.append(temp_column.text)\n",
    "\n",
    "                        temp_data = [\n",
    "                            *type_data[:2],\n",
    "                            *value_data[:2],\n",
    "                            *type_data[2:],\n",
    "                            *value_data[2:],\n",
    "                        ]\n",
    "                        data.append(temp_data)\n",
    "\n",
    "    df_columns = [\n",
    "        \"P\",\n",
    "        \"Attribute (sl)\",\n",
    "        \"Value (sl)\",\n",
    "        \"Code (sl)\",\n",
    "        \"Attribute (en)\",\n",
    "        \"Value (en)\",\n",
    "        \"Code (en)\",\n",
    "    ]\n",
    "    df_rows = data\n",
    "\n",
    "    df = pd.DataFrame(df_rows, columns=df_columns)\n",
    "    return df\n"
   ]
  },
  {
   "cell_type": "code",
   "execution_count": null,
   "metadata": {},
   "outputs": [],
   "source": [
    "def get_slovene_specification():\n",
    "    \"\"\"\n",
    "    Returns the Slovene specification from the xml file.\n",
    "    \"\"\"\n",
    "    # Get slovene index and POS from the xml file\n",
    "    slovene_index = {}\n",
    "    slovene_pos = {}\n",
    "\n",
    "    data_xml = read_xml(DATA_FILE)\n",
    "\n",
    "    # Index:\n",
    "    slovene_index[\"category\"] = get_slovene_index(data_xml[6][1][1])\n",
    "    slovene_index[\"attribute\"] = get_slovene_index(data_xml[20][2][1])\n",
    "    slovene_index[\"value\"] = get_slovene_index(data_xml[21][2][1])\n",
    "    slovene_index[\"MSD\"] = get_slovene_index(data_xml[22][2][1:])\n",
    "\n",
    "    # POS:\n",
    "    slovene_pos[\"noun\"] = get_slovene_pos(data_xml[7][1][1:])\n",
    "    slovene_pos[\"verb\"] = get_slovene_pos(data_xml[8][1][1:])\n",
    "    slovene_pos[\"adjective\"] = get_slovene_pos(data_xml[9][1][1:])\n",
    "    slovene_pos[\"adverb\"] = get_slovene_pos(data_xml[10][1][1:])\n",
    "    slovene_pos[\"pronoun\"] = get_slovene_pos(data_xml[11][1][1:])\n",
    "    slovene_pos[\"numeral\"] = get_slovene_pos(data_xml[12][1][1:])\n",
    "    slovene_pos[\"preposition\"] = get_slovene_pos(data_xml[13][1][1:])\n",
    "    slovene_pos[\"conjunction\"] = get_slovene_pos(data_xml[14][1][1:])\n",
    "    slovene_pos[\"particle\"] = get_slovene_pos(data_xml[15][1][1:])\n",
    "    slovene_pos[\"interjection\"] = get_slovene_pos(data_xml[16][1][1:])\n",
    "    slovene_pos[\"abbreviation\"] = get_slovene_pos(data_xml[17][1][1:])\n",
    "    slovene_pos[\"residual\"] = get_slovene_pos(data_xml[18][1][1:])\n",
    "    slovene_pos[\"punctuation\"] = get_slovene_pos(data_xml[19][1][1:])\n",
    "\n",
    "    return slovene_index, slovene_pos\n"
   ]
  },
  {
   "cell_type": "code",
   "execution_count": null,
   "metadata": {},
   "outputs": [],
   "source": [
    "def save_slovene_specification():\n",
    "    \"\"\"\n",
    "    Saves the Slovene specification as a data frame to a csv file.\n",
    "    \"\"\"\n",
    "    # Get slovene index and POS from the xml file\n",
    "    slovene_index, slovene_pos = get_slovene_specification()\n",
    "\n",
    "    for key, value in slovene_index.items():\n",
    "        value.to_csv(f\"{key}_index.csv\", index=False)\n",
    "    logging.info(\"Slovene index saved to csv file\")\n",
    "\n",
    "    for key, value in slovene_pos.items():\n",
    "        value.to_csv(f\"{key}_pos.csv\", index=False)\n",
    "    logging.info(\"Slovene POS saved to csv file\")\n",
    "    \n",
    "    return\n"
   ]
  },
  {
   "cell_type": "code",
   "execution_count": null,
   "metadata": {},
   "outputs": [],
   "source": [
    "def get_msd_index():\n",
    "    \"\"\"\n",
    "    Returns the MSD index from the csv file if exists else read it from xml file.\n",
    "    \"\"\"\n",
    "    if exists(MSD_INDEX_FILE):\n",
    "        # Read the data from csv file if exists\n",
    "        msd_index = pd.read_csv(MSD_INDEX_FILE)\n",
    "    else:\n",
    "        # Read the data from xml file if csv file does not exist\n",
    "        data_xml = read_xml(DATA_FILE)\n",
    "        msd_index = get_slovene_index(data_xml[22][2][1:])\n",
    "        \n",
    "    return msd_index\n"
   ]
  },
  {
   "cell_type": "code",
   "execution_count": null,
   "metadata": {},
   "outputs": [],
   "source": [
    "def get_msd_index_en_sl():\n",
    "    \"\"\"\n",
    "    Returns the MSD index in English and Slovene.\n",
    "    \"\"\"\n",
    "    return get_msd_index()[[\"MSD\", \"MSD (sl)\"]].to_numpy()\n"
   ]
  },
  {
   "cell_type": "code",
   "execution_count": null,
   "metadata": {},
   "outputs": [],
   "source": [
    "def save_msd_index_en_sl():\n",
    "    \"\"\"\n",
    "    Saves the MSD index in English and Slovene to a numpy file.\n",
    "    \"\"\"\n",
    "    msd_index = get_msd_index_en_sl()\n",
    "    np.save(MSD_INDEX_FILE.replace(\".csv\", \".npy\"), msd_index)\n",
    "    logging.info(\"MSD index saved to numpy file\")\n",
    "    \n",
    "    return\n"
   ]
  },
  {
   "cell_type": "code",
   "execution_count": null,
   "metadata": {},
   "outputs": [],
   "source": [
    "def main():\n",
    "    \"\"\"\n",
    "    Main function for Slovene Specification.\n",
    "    \"\"\"\n",
    "    logging.info(\"Start\")\n",
    "    save_slovene_specification()\n",
    "    save_msd_index_en_sl()\n",
    "    logging.info(\"End\")\n",
    "\n",
    "    return\n"
   ]
  },
  {
   "cell_type": "code",
   "execution_count": null,
   "metadata": {},
   "outputs": [],
   "source": [
    "# Run Slovene specification\n",
    "main()\n"
   ]
  }
 ],
 "metadata": {
  "kernelspec": {
   "display_name": "Python 3.10.4 ('slovko')",
   "language": "python",
   "name": "python3"
  },
  "language_info": {
   "codemirror_mode": {
    "name": "ipython",
    "version": 3
   },
   "file_extension": ".py",
   "mimetype": "text/x-python",
   "name": "python",
   "nbconvert_exporter": "python",
   "pygments_lexer": "ipython3",
   "version": "3.10.4"
  },
  "vscode": {
   "interpreter": {
    "hash": "0b7441cdf19e0d28b58859c3a7d82aad7fb7437a4f6af83da442de25c6af8e16"
   }
  }
 },
 "nbformat": 4,
 "nbformat_minor": 2
}
